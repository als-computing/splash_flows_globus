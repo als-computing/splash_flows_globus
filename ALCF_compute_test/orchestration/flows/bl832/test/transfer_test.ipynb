{
 "cells": [
  {
   "cell_type": "code",
   "execution_count": 2,
   "metadata": {},
   "outputs": [
    {
     "name": "stderr",
     "output_type": "stream",
     "text": [
      "/opt/anaconda3/envs/globus_env/lib/python3.11/site-packages/prefect/tasks.py:356: UserWarning: A task named 'transfer_data_to_alcf' and defined at '/var/folders/7t/17b_zxx55jnggw80_6672tbh0000gn/T/ipykernel_19520/3991568951.py:24' conflicts with another task. Consider specifying a unique `name` parameter in the task definition:\n",
      "\n",
      " `@task(name='my_unique_name', ...)`\n",
      "  warnings.warn(\n",
      "/opt/anaconda3/envs/globus_env/lib/python3.11/site-packages/prefect/flows.py:357: UserWarning: A flow named 'new_832_file_flow' and defined at '/var/folders/7t/17b_zxx55jnggw80_6672tbh0000gn/T/ipykernel_19520/3991568951.py:49' conflicts with another flow. Consider specifying a unique `name` parameter in the flow definition:\n",
      "\n",
      " `@flow(name='my_unique_name', ...)`\n",
      "  warnings.warn(\n"
     ]
    },
    {
     "data": {
      "text/html": [
       "<pre style=\"white-space:pre;overflow-x:auto;line-height:normal;font-family:Menlo,'DejaVu Sans Mono',consolas,'Courier New',monospace\">08:26:26.537 | <span style=\"color: #008080; text-decoration-color: #008080\">INFO</span>    | prefect.engine - Created flow run<span style=\"color: #800080; text-decoration-color: #800080\"> 'origami-tuatara'</span> for flow<span style=\"color: #800080; text-decoration-color: #800080; font-weight: bold\"> 'new_832_file_flow'</span>\n",
       "</pre>\n"
      ],
      "text/plain": [
       "08:26:26.537 | \u001b[36mINFO\u001b[0m    | prefect.engine - Created flow run\u001b[35m 'origami-tuatara'\u001b[0m for flow\u001b[1;35m 'new_832_file_flow'\u001b[0m\n"
      ]
     },
     "metadata": {},
     "output_type": "display_data"
    },
    {
     "data": {
      "text/html": [
       "<pre style=\"white-space:pre;overflow-x:auto;line-height:normal;font-family:Menlo,'DejaVu Sans Mono',consolas,'Courier New',monospace\">08:26:26.539 | <span style=\"color: #008080; text-decoration-color: #008080\">INFO</span>    | Flow run<span style=\"color: #800080; text-decoration-color: #800080\"> 'origami-tuatara'</span> - View at <span style=\"color: #0000ff; text-decoration-color: #0000ff\">https://app.prefect.cloud/account/ca79a138-2e4f-47c8-8d00-4908b002539f/workspace/c1a9883b-6687-4812-b00e-e520ad98a996/flow-runs/flow-run/554a481a-9c5e-4a37-8d37-c2b5e019bb46</span>\n",
       "</pre>\n"
      ],
      "text/plain": [
       "08:26:26.539 | \u001b[36mINFO\u001b[0m    | Flow run\u001b[35m 'origami-tuatara'\u001b[0m - View at \u001b[94mhttps://app.prefect.cloud/account/ca79a138-2e4f-47c8-8d00-4908b002539f/workspace/c1a9883b-6687-4812-b00e-e520ad98a996/flow-runs/flow-run/554a481a-9c5e-4a37-8d37-c2b5e019bb46\u001b[0m\n"
      ]
     },
     "metadata": {},
     "output_type": "display_data"
    },
    {
     "data": {
      "text/html": [
       "<pre style=\"white-space:pre;overflow-x:auto;line-height:normal;font-family:Menlo,'DejaVu Sans Mono',consolas,'Courier New',monospace\">08:26:26.785 | <span style=\"color: #008080; text-decoration-color: #008080\">INFO</span>    | Flow run<span style=\"color: #800080; text-decoration-color: #800080\"> 'origami-tuatara'</span> - Starting flow for new file processing and transfer.\n",
       "</pre>\n"
      ],
      "text/plain": [
       "08:26:26.785 | \u001b[36mINFO\u001b[0m    | Flow run\u001b[35m 'origami-tuatara'\u001b[0m - Starting flow for new file processing and transfer.\n"
      ]
     },
     "metadata": {},
     "output_type": "display_data"
    },
    {
     "data": {
      "text/html": [
       "<pre style=\"white-space:pre;overflow-x:auto;line-height:normal;font-family:Menlo,'DejaVu Sans Mono',consolas,'Courier New',monospace\">08:26:26.958 | <span style=\"color: #008080; text-decoration-color: #008080\">INFO</span>    | Flow run<span style=\"color: #800080; text-decoration-color: #800080\"> 'origami-tuatara'</span> - Created task run 'transfer_data_to_alcf-0' for task 'transfer_data_to_alcf'\n",
       "</pre>\n"
      ],
      "text/plain": [
       "08:26:26.958 | \u001b[36mINFO\u001b[0m    | Flow run\u001b[35m 'origami-tuatara'\u001b[0m - Created task run 'transfer_data_to_alcf-0' for task 'transfer_data_to_alcf'\n"
      ]
     },
     "metadata": {},
     "output_type": "display_data"
    },
    {
     "data": {
      "text/html": [
       "<pre style=\"white-space:pre;overflow-x:auto;line-height:normal;font-family:Menlo,'DejaVu Sans Mono',consolas,'Courier New',monospace\">08:26:26.961 | <span style=\"color: #008080; text-decoration-color: #008080\">INFO</span>    | Flow run<span style=\"color: #800080; text-decoration-color: #800080\"> 'origami-tuatara'</span> - Executing 'transfer_data_to_alcf-0' immediately...\n",
       "</pre>\n"
      ],
      "text/plain": [
       "08:26:26.961 | \u001b[36mINFO\u001b[0m    | Flow run\u001b[35m 'origami-tuatara'\u001b[0m - Executing 'transfer_data_to_alcf-0' immediately...\n"
      ]
     },
     "metadata": {},
     "output_type": "display_data"
    },
    {
     "data": {
      "text/html": [
       "<pre style=\"white-space:pre;overflow-x:auto;line-height:normal;font-family:Menlo,'DejaVu Sans Mono',consolas,'Courier New',monospace\">08:26:28.614 | <span style=\"color: #d70000; text-decoration-color: #d70000\">ERROR</span>   | Task run 'transfer_data_to_alcf-0' - <span style=\"color: #d70000; text-decoration-color: #d70000\">Failed</span> to submit transfer: ('POST', '<span style=\"color: #0000ff; text-decoration-color: #0000ff\">https://transfer.api.globus.org/v0.10/transfer</span>', 'Bearer', 403, 'ConsentRequired', 'Missing required data_access consent', 'SxxiEhy6d')\n",
       "</pre>\n"
      ],
      "text/plain": [
       "08:26:28.614 | \u001b[38;5;160mERROR\u001b[0m   | Task run 'transfer_data_to_alcf-0' - \u001b[38;5;160mFailed\u001b[0m to submit transfer: ('POST', '\u001b[94mhttps://transfer.api.globus.org/v0.10/transfer\u001b[0m', 'Bearer', 403, 'ConsentRequired', 'Missing required data_access consent', 'SxxiEhy6d')\n"
      ]
     },
     "metadata": {},
     "output_type": "display_data"
    },
    {
     "data": {
      "text/html": [
       "<pre style=\"white-space:pre;overflow-x:auto;line-height:normal;font-family:Menlo,'DejaVu Sans Mono',consolas,'Courier New',monospace\">08:26:28.770 | <span style=\"color: #008080; text-decoration-color: #008080\">INFO</span>    | Task run 'transfer_data_to_alcf-0' - Finished in state <span style=\"color: #008000; text-decoration-color: #008000\">Completed</span>()\n",
       "</pre>\n"
      ],
      "text/plain": [
       "08:26:28.770 | \u001b[36mINFO\u001b[0m    | Task run 'transfer_data_to_alcf-0' - Finished in state \u001b[32mCompleted\u001b[0m()\n"
      ]
     },
     "metadata": {},
     "output_type": "display_data"
    },
    {
     "data": {
      "text/html": [
       "<pre style=\"white-space:pre;overflow-x:auto;line-height:normal;font-family:Menlo,'DejaVu Sans Mono',consolas,'Courier New',monospace\">08:26:28.783 | <span style=\"color: #d70000; text-decoration-color: #d70000\">ERROR</span>   | Flow run<span style=\"color: #800080; text-decoration-color: #800080\"> 'origami-tuatara'</span> - Transfer failed due to configuration or authorization issues.\n",
       "</pre>\n"
      ],
      "text/plain": [
       "08:26:28.783 | \u001b[38;5;160mERROR\u001b[0m   | Flow run\u001b[35m 'origami-tuatara'\u001b[0m - Transfer failed due to configuration or authorization issues.\n"
      ]
     },
     "metadata": {},
     "output_type": "display_data"
    },
    {
     "data": {
      "text/html": [
       "<pre style=\"white-space:pre;overflow-x:auto;line-height:normal;font-family:Menlo,'DejaVu Sans Mono',consolas,'Courier New',monospace\">08:26:29.032 | <span style=\"color: #008080; text-decoration-color: #008080\">INFO</span>    | Flow run<span style=\"color: #800080; text-decoration-color: #800080\"> 'origami-tuatara'</span> - Finished in state <span style=\"color: #008000; text-decoration-color: #008000\">Completed</span>('All states completed.')\n",
       "</pre>\n"
      ],
      "text/plain": [
       "08:26:29.032 | \u001b[36mINFO\u001b[0m    | Flow run\u001b[35m 'origami-tuatara'\u001b[0m - Finished in state \u001b[32mCompleted\u001b[0m('All states completed.')\n"
      ]
     },
     "metadata": {},
     "output_type": "display_data"
    }
   ],
   "source": [
    "from dotenv import load_dotenv\n",
    "import os\n",
    "import globus_sdk\n",
    "from pathlib import Path\n",
    "from prefect import flow, task, get_run_logger\n",
    "import uuid\n",
    "from config import Config832\n",
    "\n",
    "# Load environment variables\n",
    "load_dotenv()\n",
    "\n",
    "# Set the client ID and fetch client secret from environment\n",
    "CLIENT_ID = os.getenv('GLOBUS_CLIENT_ID')\n",
    "CLIENT_SECRET = os.getenv('GLOBUS_CLIENT_SECRET')\n",
    "\n",
    "# Define the necessary scopes for transfer\n",
    "SCOPES = \"urn:globus:auth:scope:transfer.api.globus.org:all\"\n",
    "\n",
    "# Initialize the ConfidentialAppAuthClient for a service account\n",
    "auth_client = globus_sdk.ConfidentialAppAuthClient(CLIENT_ID, CLIENT_SECRET)\n",
    "authorizer = globus_sdk.ClientCredentialsAuthorizer(auth_client, SCOPES)\n",
    "transfer_client = globus_sdk.TransferClient(authorizer=authorizer)\n",
    "\n",
    "@task(name=\"transfer_data_to_alcf\")\n",
    "def transfer_data_to_alcf(file_path: str):\n",
    "    \"\"\"\n",
    "    Transfer data to ALCF endpoint.\n",
    "    Args:\n",
    "        file_path (str): Path to the file that needs to be transferred.\n",
    "    \"\"\"\n",
    "    logger = get_run_logger()\n",
    "    config = Config832()\n",
    "\n",
    "    # Prepare the transfer data\n",
    "    transfer_data = globus_sdk.TransferData(transfer_client, \n",
    "                                            config.nersc832.uuid,  \n",
    "                                            config.alcfeagle_832.uuid,  \n",
    "                                            label='Data Transfer to ALCF')\n",
    "    transfer_data.add_item(file_path, file_path)\n",
    "\n",
    "    # Start the transfer\n",
    "    try:\n",
    "        transfer_result = transfer_client.submit_transfer(transfer_data)\n",
    "        logger.info(f\"Transfer submitted, task ID: {transfer_result['task_id']}\")\n",
    "    except globus_sdk.services.transfer.errors.TransferAPIError as e:\n",
    "        logger.error(f\"Failed to submit transfer: {e}\")\n",
    "        return False\n",
    "\n",
    "@flow(name=\"new_832_file_flow\")\n",
    "def process_new_832_file(file_path: str):\n",
    "    \"\"\"\n",
    "    Process and transfer a file from a source to the ALCF.\n",
    "    Args:\n",
    "        file_path (str): Path to the file that needs to be processed.\n",
    "    \"\"\"\n",
    "    logger = get_run_logger()\n",
    "    logger.info(\"Starting flow for new file processing and transfer.\")\n",
    "    \n",
    "    # Call the task to transfer data\n",
    "    transfer_success = transfer_data_to_alcf(file_path)\n",
    "    if not transfer_success:\n",
    "        logger.error(\"Transfer failed due to configuration or authorization issues.\")\n",
    "\n",
    "if __name__ == \"__main__\":\n",
    "    file = Path(\"/raw/transfer_tests/test.txt\")\n",
    "    new_file = str(file.with_name(f\"test_{str(uuid.uuid4())}.txt\"))\n",
    "    process_new_832_file(new_file)\n"
   ]
  },
  {
   "cell_type": "code",
   "execution_count": null,
   "metadata": {},
   "outputs": [],
   "source": []
  }
 ],
 "metadata": {
  "kernelspec": {
   "display_name": "globus_env",
   "language": "python",
   "name": "python3"
  },
  "language_info": {
   "codemirror_mode": {
    "name": "ipython",
    "version": 3
   },
   "file_extension": ".py",
   "mimetype": "text/x-python",
   "name": "python",
   "nbconvert_exporter": "python",
   "pygments_lexer": "ipython3",
   "version": "3.11.8"
  }
 },
 "nbformat": 4,
 "nbformat_minor": 2
}
