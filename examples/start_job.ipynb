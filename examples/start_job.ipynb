{
 "cells": [
  {
   "cell_type": "code",
   "execution_count": 3,
   "metadata": {},
   "outputs": [
    {
     "name": "stdout",
     "output_type": "stream",
     "text": [
      "{'status': 'success', 'msg': 'job created'}\n"
     ]
    }
   ],
   "source": [
    "import requests\n",
    "\n",
    "API_URL = \"http://localhost/orchestration/api/v1/jobs/\"\n",
    "\n",
    "new_job = {\n",
    "\n",
    "  \"path\": \"/raw/dmcreynolds/20220121_104522_tomoa.h5\",\n",
    "  \"type_spec\": \"new_file_832\",\n",
    "  \"instrument\": \"als832\"\n",
    "\n",
    "}\n",
    "\n",
    "resp = requests.post(API_URL, json=new_job, headers={\"api_key\": \"sdjfsdljf0dfj9sdf\"})\n",
    "print(resp.json())"
   ]
  },
  {
   "cell_type": "code",
   "execution_count": 9,
   "metadata": {},
   "outputs": [
    {
     "data": {
      "text/plain": [
       "{'full_count': 0, 'jobs': []}"
      ]
     },
     "execution_count": 9,
     "metadata": {},
     "output_type": "execute_result"
    }
   ],
   "source": [
    "resp = requests.get(API_URL, headers={\"api_key\": \"sdjfsdljf0dfj9sdf\"})\n",
    "resp.json()"
   ]
  },
  {
   "cell_type": "code",
   "execution_count": null,
   "metadata": {},
   "outputs": [],
   "source": []
  },
  {
   "cell_type": "code",
   "execution_count": null,
   "metadata": {},
   "outputs": [],
   "source": []
  }
 ],
 "metadata": {
  "kernelspec": {
   "display_name": "globusflows",
   "language": "python",
   "name": "python3"
  },
  "language_info": {
   "codemirror_mode": {
    "name": "ipython",
    "version": 3
   },
   "file_extension": ".py",
   "mimetype": "text/x-python",
   "name": "python",
   "nbconvert_exporter": "python",
   "pygments_lexer": "ipython3",
   "version": "3.11.3"
  },
  "orig_nbformat": 4,
  "vscode": {
   "interpreter": {
    "hash": "ecb67c3ed74c2a93c1c769ba6bb1e2920d85b084723ab86b1c9f60f4bdc77f08"
   }
  }
 },
 "nbformat": 4,
 "nbformat_minor": 2
}
