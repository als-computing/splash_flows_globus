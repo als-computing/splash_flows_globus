{
 "cells": [
  {
   "cell_type": "code",
   "execution_count": 13,
   "metadata": {},
   "outputs": [],
   "source": [
    "import asyncio\n",
    "import os\n",
    "import dotenv\n",
    "from prefect.client import OrionClient\n",
    "from prefect.orion.schemas.core import Flow, FlowRun\n",
    "from prefect.orion.schemas.states import Scheduled"
   ]
  },
  {
   "cell_type": "code",
   "execution_count": 14,
   "metadata": {},
   "outputs": [],
   "source": [
    "async def prefect_start_flow(prefect_api_url, deployment_name, file_path, api_key=None):\n",
    "    client = OrionClient(prefect_api_url, api_key=api_key)\n",
    "    deployment = await client.read_deployment_by_name(deployment_name)\n",
    "    flow_run = await client.create_flow_run_from_deployment(\n",
    "        deployment.id,\n",
    "        name=os.path.basename(file_path),\n",
    "        parameters={\"file_path\": file_path},\n",
    "    )\n",
    "    return flow_run\n"
   ]
  },
  {
   "cell_type": "code",
   "execution_count": 15,
   "metadata": {},
   "outputs": [],
   "source": [
    "dotenv.load_dotenv()\n",
    "prefect_api_url = os.getenv('PREFECT_API_URL')\n",
    "prefect_api_key = os.getenv('PREFECT_API_KEY')\n",
    "prefect_deployment = 'process_newdata_7012/process_newdata_7012'\n",
    "fpath = '/2023/02/230214/NS_230214027_ccdframes_0_0_cosmic2.cxi'\n"
   ]
  },
  {
   "cell_type": "code",
   "execution_count": 16,
   "metadata": {},
   "outputs": [
    {
     "data": {
      "text/plain": [
       "FlowRun(id=UUID('ca29a0af-d663-4dcc-b0c5-f399cdcd4477'), name='NS_230214027_ccdframes_0_0_cosmic2.cxi', flow_id=UUID('573abb6a-6ed4-467a-a2a4-4b6a48be5134'), state_id=UUID('fcadbcf2-c4d3-4d3a-8e15-afd90acd88fe'), deployment_id=UUID('93ea5a13-6933-4df8-afd3-7605094ca5d8'), work_queue_name='bl7012', flow_version=None, parameters={'file_path': '/2023/02/230214/NS_230214027_ccdframes_0_0_cosmic2.cxi'}, idempotency_key=None, context={}, empirical_policy=FlowRunPolicy(max_retries=0, retry_delay_seconds=0.0, retries=None, retry_delay=None, pause_keys=set(), resuming=False), tags=[], parent_task_run_id=None, state_type=StateType.SCHEDULED, state_name='Scheduled', run_count=0, expected_start_time=DateTime(2023, 5, 26, 18, 39, 18, 256784, tzinfo=Timezone('+00:00')), next_scheduled_start_time=DateTime(2023, 5, 26, 18, 39, 18, 256784, tzinfo=Timezone('+00:00')), start_time=None, end_time=None, total_run_time=datetime.timedelta(0), estimated_run_time=datetime.timedelta(0), estimated_start_time_delta=datetime.timedelta(microseconds=71556), auto_scheduled=False, infrastructure_document_id=UUID('dd6d20ef-a5f1-4658-a6ee-b9e4587bb58f'), infrastructure_pid=None, created_by=None, work_pool_name='default-agent-pool', work_pool_queue_name=None, state=Scheduled(message=None, type=SCHEDULED, result=None))"
      ]
     },
     "execution_count": 16,
     "metadata": {},
     "output_type": "execute_result"
    }
   ],
   "source": [
    "await prefect_start_flow(prefect_api_url, prefect_deployment, fpath, api_key=prefect_api_key)\n",
    "\n",
    "# Use the following when not running in Jupyter notebook\n",
    "# asyncio.run(prefect_start_flow(prefect_api_url, prefect_deployment, fpath, api_key=prefect_api_key))"
   ]
  },
  {
   "cell_type": "code",
   "execution_count": null,
   "metadata": {},
   "outputs": [],
   "source": []
  }
 ],
 "metadata": {
  "kernelspec": {
   "display_name": "globusflows",
   "language": "python",
   "name": "python3"
  },
  "language_info": {
   "codemirror_mode": {
    "name": "ipython",
    "version": 3
   },
   "file_extension": ".py",
   "mimetype": "text/x-python",
   "name": "python",
   "nbconvert_exporter": "python",
   "pygments_lexer": "ipython3",
   "version": "3.11.3"
  },
  "orig_nbformat": 4,
  "vscode": {
   "interpreter": {
    "hash": "ecb67c3ed74c2a93c1c769ba6bb1e2920d85b084723ab86b1c9f60f4bdc77f08"
   }
  }
 },
 "nbformat": 4,
 "nbformat_minor": 2
}
