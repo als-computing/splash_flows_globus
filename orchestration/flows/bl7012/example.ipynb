{
 "cells": [
  {
   "cell_type": "code",
   "execution_count": 13,
   "metadata": {},
   "outputs": [],
   "source": [
    "import asyncio\n",
    "import os\n",
    "import dotenv\n",
    "from prefect.client import OrionClient\n",
    "from prefect.orion.schemas.core import Flow, FlowRun\n",
    "from prefect.orion.schemas.states import Scheduled"
   ]
  },
  {
   "cell_type": "code",
   "execution_count": 14,
   "metadata": {},
   "outputs": [],
   "source": [
    "async def prefect_start_flow(prefect_api_url, deployment_name, file_path, api_key=None):\n",
    "    client = OrionClient(prefect_api_url, api_key=api_key)\n",
    "    deployment = await client.read_deployment_by_name(deployment_name)\n",
    "    flow_run = await client.create_flow_run_from_deployment(\n",
    "        deployment.id,\n",
    "        name=os.path.basename(file_path),\n",
    "        parameters={\"file_path\": file_path},\n",
    "    )\n",
    "    return flow_run\n"
   ]
  },
  {
   "cell_type": "code",
   "execution_count": 15,
   "metadata": {},
   "outputs": [],
   "source": [
    "dotenv.load_dotenv()\n",
    "prefect_api_url = os.getenv('PREFECT_API_URL')\n",
    "prefect_api_key = os.getenv('PREFECT_API_KEY')\n",
    "prefect_deployment = 'process_newdata_7012/process_newdata_7012'\n",
    "fpath = '/2023/02/230214/NS_230214027_ccdframes_0_0_cosmic2.cxi'\n"
   ]
  },
  {
   "cell_type": "code",
   "execution_count": null,
   "metadata": {},
   "outputs": [],
   "source": [
    "await prefect_start_flow(prefect_api_url, prefect_deployment, fpath, api_key=prefect_api_key)\n",
    "\n",
    "# Use the following when not running in Jupyter notebook\n",
    "# asyncio.run(prefect_start_flow(prefect_api_url, prefect_deployment, fpath, api_key=prefect_api_key))"
   ]
  },
  {
   "cell_type": "code",
   "execution_count": null,
   "metadata": {},
   "outputs": [],
   "source": []
  }
 ],
 "metadata": {
  "kernelspec": {
   "display_name": "globusflows",
   "language": "python",
   "name": "python3"
  },
  "language_info": {
   "codemirror_mode": {
    "name": "ipython",
    "version": 3
   },
   "file_extension": ".py",
   "mimetype": "text/x-python",
   "name": "python",
   "nbconvert_exporter": "python",
   "pygments_lexer": "ipython3",
   "version": "3.11.3"
  },
  "orig_nbformat": 4,
  "vscode": {
   "interpreter": {
    "hash": "ecb67c3ed74c2a93c1c769ba6bb1e2920d85b084723ab86b1c9f60f4bdc77f08"
   }
  }
 },
 "nbformat": 4,
 "nbformat_minor": 2
}
